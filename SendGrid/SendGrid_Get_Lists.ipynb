{
 "cells": [
  {
   "cell_type": "markdown",
   "id": "85db721e-2267-40ca-ac5b-00c08ec10ff0",
   "metadata": {
    "papermill": {},
    "tags": []
   },
   "source": [
    "<img width=\"8%\" alt=\"SendGrid.png\" src=\"https://raw.githubusercontent.com/jupyter-naas/awesome-notebooks/master/.github/assets/logos/SendGrid.png\" style=\"border-radius: 15%\">"
   ]
  },
  {
   "cell_type": "markdown",
   "id": "2ba2f665-d276-4881-81f8-c9524f75796b",
   "metadata": {
    "papermill": {},
    "tags": []
   },
   "source": [
    "# SendGrid - Get Lists\n",
    "<a href=\"https://bit.ly/3JyWIk6\">Give Feedback</a> | <a href=\"https://github.com/jupyter-naas/awesome-notebooks/issues/new?assignees=&labels=bug&template=bug_report.md&title=SendGrid+-+Get+Lists:+Error+short+description\">Bug report</a>"
   ]
  },
  {
   "cell_type": "markdown",
   "id": "b55448ec-bd35-4884-b72f-a06a3f12c914",
   "metadata": {
    "papermill": {},
    "tags": []
   },
   "source": [
    "**Tags:** #sendgrid #snippet #operations #dataframe #lists"
   ]
  },
  {
   "cell_type": "markdown",
   "id": "b025116f-fd57-40ae-81db-99d9dbc30445",
   "metadata": {
    "papermill": {},
    "tags": []
   },
   "source": [
    "**Author:** [Florent Ravenel](https://linkedin.com/in/florent-ravenel/)"
   ]
  },
  {
   "cell_type": "markdown",
   "id": "70c1e871-3abb-4b63-9540-fb7a7138486e",
   "metadata": {
    "papermill": {},
    "tags": []
   },
   "source": [
    "**Last update:** 2024-08-02 (Created: 2024-08-02)"
   ]
  },
  {
   "cell_type": "markdown",
   "id": "naas-description",
   "metadata": {
    "papermill": {},
    "tags": [
     "description"
    ]
   },
   "source": [
    "**Description:** This notebook get lists from SendGrid."
   ]
  },
  {
   "cell_type": "markdown",
   "id": "ec2132f6-bf89-4236-8ac7-0c207f8f03b1",
   "metadata": {
    "papermill": {},
    "tags": []
   },
   "source": [
    "## Input"
   ]
  },
  {
   "cell_type": "markdown",
   "id": "81f26c9b-0c3c-4cf8-ad50-dc67e6329ba1",
   "metadata": {
    "papermill": {},
    "tags": []
   },
   "source": [
    "### Imports"
   ]
  },
  {
   "cell_type": "code",
   "execution_count": 1,
   "id": "26c428b4-66f4-48a4-82db-ff24cdec1782",
   "metadata": {
    "papermill": {},
    "tags": []
   },
   "outputs": [],
   "source": [
    "import requests"
   ]
  },
  {
   "cell_type": "markdown",
   "id": "392e708f-7c32-45d7-8937-382c9651fc0f",
   "metadata": {
    "papermill": {},
    "tags": []
   },
   "source": [
    "### Setup variables"
   ]
  },
  {
   "cell_type": "code",
   "execution_count": 2,
   "id": "2de7b1bc-5ec9-4fa7-b89f-3f72f1b9a5e0",
   "metadata": {
    "papermill": {},
    "tags": []
   },
   "outputs": [],
   "source": [
    "api_key = \"SG.xxxxxxxxxxxxxxxxx\""
   ]
  },
  {
   "cell_type": "markdown",
   "id": "a180347f-a2e1-44b2-bce0-775c7ac63b04",
   "metadata": {
    "papermill": {},
    "tags": []
   },
   "source": [
    "## Model"
   ]
  },
  {
   "cell_type": "markdown",
   "id": "61983024-d97c-46d5-b27c-b7d5c7af5869",
   "metadata": {
    "papermill": {},
    "tags": []
   },
   "source": [
    "### Get all lists from Sendgrid"
   ]
  },
  {
   "cell_type": "code",
   "execution_count": 3,
   "id": "b5d42846-8db8-4bba-b6c6-d37af7b1c138",
   "metadata": {
    "papermill": {},
    "tags": []
   },
   "outputs": [],
   "source": [
    "def get_all_lists(api_key):\n",
    "    headers = {\n",
    "        \"Authorization\": \"Bearer \" + api_key\n",
    "    }\n",
    "    response = requests.get('https://api.sendgrid.com/v3/marketing/lists', headers=headers)\n",
    "    return response.json()\n",
    "\n",
    "results = get_all_lists(api_key)\n",
    "print(results)"
   ]
  },
  {
   "cell_type": "markdown",
   "id": "6109e162-ea7e-4db3-bb71-41c5e1403ea1",
   "metadata": {
    "papermill": {},
    "tags": []
   },
   "source": [
    "## Output"
   ]
  },
  {
   "cell_type": "markdown",
   "id": "b54a2952-c67e-418b-b491-40162fb75477",
   "metadata": {
    "papermill": {},
    "tags": []
   },
   "source": [
    "### Display result"
   ]
  },
  {
   "cell_type": "code",
   "execution_count": 4,
   "id": "7a3247b7-a627-41b0-89e9-2b7c39b0be47",
   "metadata": {
    "papermill": {},
    "tags": []
   },
   "outputs": [],
   "source": [
    "results.get(\"result\")"
   ]
  }
 ],
 "metadata": {
  "kernelspec": {
   "display_name": "Python 3",
   "language": "python",
   "name": "python3"
  },
  "language_info": {
   "codemirror_mode": {
    "name": "ipython",
    "version": 3
   },
   "file_extension": ".py",
   "mimetype": "text/x-python",
   "name": "python",
   "nbconvert_exporter": "python",
   "pygments_lexer": "ipython3",
   "version": "3.9.6"
  },
  "naas": {
   "notebook_id": "e2344455b30dcddafa9b9d62709594529f8d36b98f31223b42e57356a36c2377",
   "notebook_path": "SendGrid/SendGrid_Get_Lists.ipynb"
  },
  "papermill": {
   "default_parameters": {},
   "environment_variables": {},
   "parameters": {},
   "version": "2.3.4"
  }
 },
 "nbformat": 4,
 "nbformat_minor": 5
}