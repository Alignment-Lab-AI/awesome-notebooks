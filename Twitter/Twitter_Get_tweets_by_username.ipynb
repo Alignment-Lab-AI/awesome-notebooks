{
 "cells": [
  {
   "cell_type": "markdown",
   "id": "naas-logo",
   "metadata": {
    "papermill": {},
    "tags": [
     "naas"
    ]
   },
   "source": [
    "<img width=\"8%\" alt=\"Twitter.jpeg\" src=\"https://raw.githubusercontent.com/jupyter-naas/awesome-notebooks/master/.github/assets/logos/Twitter.jpeg\" style=\"border-radius: 15%\">"
   ]
  },
  {
   "cell_type": "markdown",
   "id": "22b3e6a7-eaf5-49ab-93f6-d5b5b0ac4bb7",
   "metadata": {
    "papermill": {},
    "tags": []
   },
   "source": [
    "# Twitter - Get tweets by username\n",
    "<a href=\"https://bit.ly/3JyWIk6\">Give Feedback</a> | <a href=\"https://github.com/jupyter-naas/awesome-notebooks/issues/new?assignees=&labels=bug&template=bug_report.md&title=Twitter+-+Get+tweets+by+username:+Error+short+description\">Bug report</a>"
   ]
  },
  {
   "cell_type": "markdown",
   "id": "32c26cef-6a0b-4e42-b821-24731046d65c",
   "metadata": {
    "papermill": {},
    "tags": []
   },
   "source": [
    "**Tags:** #twitter #username #snippet #content #dataframe"
   ]
  },
  {
   "cell_type": "markdown",
   "id": "naas-author",
   "metadata": {
    "papermill": {},
    "tags": [
     "naas"
    ]
   },
   "source": [
    "**Author:** [Varsha Kumar](https://www.linkedin.com/in/varsha-kumar-590466305/)"
   ]
  },
  {
   "cell_type": "markdown",
   "id": "f9207fc0-4e6f-4722-b48f-88e8f5fff2ea",
   "metadata": {
    "papermill": {},
    "tags": []
   },
   "source": [
    "**Last update:** 2024-07-22 (Created: 2024-07-17)"
   ]
  },
  {
   "cell_type": "markdown",
   "id": "naas-description",
   "metadata": {
    "papermill": {},
    "tags": [
     "description"
    ]
   },
   "source": [
    "**Description:** This notebook allows users to get all tweets made by inputed twitter username."
   ]
  },
  {
   "cell_type": "markdown",
   "id": "06f7ea29-5966-46c1-8472-2cf7042003be",
   "metadata": {
    "papermill": {},
    "tags": []
   },
   "source": [
    "### How to retrive API key with apify"
   ]
  },
  {
   "cell_type": "markdown",
   "id": "9ca4c18d-156e-463d-a3ab-d19d06ea1915",
   "metadata": {
    "papermill": {},
    "tags": []
   },
   "source": [
    "1. Go to https://apify.com.\n",
    "2. Click \"Sign up for free\" and use your google account to sign up.\n",
    "3. Once your account has been created, navigate to \"Settings\" on the left panel of the screen.\n",
    "4. Here you will click on the tab labeled \"Integrations\" where your personal API token that was automatically generated with sign up will be.\n",
    "5. Copy that token and use it to extract data!"
   ]
  },
  {
   "cell_type": "markdown",
   "id": "7331465c-f134-4411-b2c2-0b0c3e0a688c",
   "metadata": {
    "papermill": {},
    "tags": []
   },
   "source": [
    "## Input"
   ]
  },
  {
   "cell_type": "markdown",
   "id": "import_cell",
   "metadata": {
    "papermill": {},
    "tags": []
   },
   "source": [
    "### Import libraries"
   ]
  },
  {
   "cell_type": "code",
   "execution_count": 1,
   "id": "6e4a6247-513e-42de-af1c-70b9a87bdcff",
   "metadata": {
    "papermill": {},
    "tags": []
   },
   "outputs": [],
   "source": [
    "import requests\n",
    "import time\n",
    "import pandas as pd"
   ]
  },
  {
   "cell_type": "markdown",
   "id": "60f6074a-9b9a-4869-b34a-b5ecc1857d79",
   "metadata": {
    "papermill": {},
    "tags": []
   },
   "source": [
    "### Setup variables"
   ]
  },
  {
   "cell_type": "markdown",
   "id": "bce3b3b0-d296-4ac6-bc69-be0f94ece1eb",
   "metadata": {
    "papermill": {},
    "tags": []
   },
   "source": [
    "- `APIFY_API_TOKEN`: personal token apify creates to access data\n",
    "- `TWITTER_URL`: link to the twitter account\n",
    "- `OUTPUT_CSV`: excel file"
   ]
  },
  {
   "cell_type": "code",
   "execution_count": 2,
   "id": "45564994-08dc-4551-9da3-10c5a755ec74",
   "metadata": {
    "papermill": {},
    "tags": []
   },
   "outputs": [],
   "source": [
    "APIFY_API_TOKEN = 'apify_api_gXWnLEPiE7wC8ALUwQkJ0QcdbuQzU84xxxxx'\n",
    "TWITTER_URL = 'https://twitter.com/Spotify'\n",
    "OUTPUT_CSV = f\"{TWITTER_URL.split('https://twitter.com/')[1].replace('/', '_')}_tweets.csv\""
   ]
  },
  {
   "cell_type": "markdown",
   "id": "663c610e-1558-479a-9143-300fcdfc9af6",
   "metadata": {
    "papermill": {},
    "tags": []
   },
   "source": [
    "## Model"
   ]
  },
  {
   "cell_type": "markdown",
   "id": "fa36a148-2182-4f28-9420-13fe49623392",
   "metadata": {
    "papermill": {},
    "tags": []
   },
   "source": [
    "### Setup apify actor"
   ]
  },
  {
   "cell_type": "code",
   "execution_count": 3,
   "id": "25193cda-fb05-4477-9c13-7c9d0a600102",
   "metadata": {
    "papermill": {},
    "tags": []
   },
   "outputs": [],
   "source": [
    "# Prepare the actor input\n",
    "actor_input = {\n",
    "    \"startUrls\": [{\"url\": TWITTER_URL}],\n",
    "    \"resultsLimit\": 100,  # Adjust the limit as needed\n",
    "    \"mode\": \"own\"  # Options: \"own\", \"replies\", \"both\"\n",
    "}\n",
    "\n",
    "# Run the actor\n",
    "run_actor_url = f'https://api.apify.com/v2/acts/quacker~twitter-scraper/runs?token={APIFY_API_TOKEN}'\n",
    "run_response = requests.post(run_actor_url, json=actor_input)\n",
    "run_response.raise_for_status()  # Raise an error if the request failed\n",
    "run = run_response.json()\n",
    "run_id = run['data']['id']"
   ]
  },
  {
   "cell_type": "markdown",
   "id": "27aa7c81-ebed-44b8-b811-7dac6100c285",
   "metadata": {
    "papermill": {},
    "tags": []
   },
   "source": [
    "### Get tweets data"
   ]
  },
  {
   "cell_type": "code",
   "execution_count": 4,
   "id": "bf443879-ea6d-4078-8e1b-e628cf465dab",
   "metadata": {
    "papermill": {},
    "tags": []
   },
   "outputs": [],
   "source": [
    "while True:\n",
    "    run_details_url = f'https://api.apify.com/v2/actor-runs/{run_id}?token={APIFY_API_TOKEN}'\n",
    "    run_details_response = requests.get(run_details_url)\n",
    "    run_details_response.raise_for_status()\n",
    "    run_details = run_details_response.json()\n",
    "    if run_details['data']['status'] in ['SUCCEEDED', 'FAILED', 'ABORTED']:\n",
    "        break\n",
    "    time.sleep(10)  # Wait for 10 seconds before checking the status again\n",
    "\n",
    "# Fetch the results\n",
    "dataset_id = run_details['data']['defaultDatasetId']\n",
    "dataset_items_url = f'https://api.apify.com/v2/datasets/{dataset_id}/items?token={APIFY_API_TOKEN}'\n",
    "dataset_items_response = requests.get(dataset_items_url)\n",
    "dataset_items_response.raise_for_status()\n",
    "dataset_items = dataset_items_response.json()"
   ]
  },
  {
   "cell_type": "markdown",
   "id": "38f2f926-f52c-4b48-bec1-f8fc028a6dbf",
   "metadata": {
    "papermill": {},
    "tags": []
   },
   "source": [
    "### Dataframe structure function"
   ]
  },
  {
   "cell_type": "code",
   "execution_count": 6,
   "id": "a0f65554-5ca0-4f9c-bbd8-0772e9a8efd1",
   "metadata": {
    "papermill": {},
    "tags": []
   },
   "outputs": [],
   "source": [
    "def get_tweets(\n",
    "    tid,\n",
    "    text,\n",
    "    reply_count,\n",
    "    retweet_count,\n",
    "    favorites_count,\n",
    "    hashtags,\n",
    "    user_mentions,\n",
    "    url,\n",
    "    created_at,\n",
    "    view_count\n",
    "):\n",
    "    return {\n",
    "        \"ID\": tid,\n",
    "        \"TEXT\": text,\n",
    "        \"REPLY_COUNT\": reply_count,\n",
    "        \"RETWEET_COUNT\": retweet_count,\n",
    "        \"FAVORITES_COUNT\": favorites_count,\n",
    "        \"HASHTAGS\": hashtags,\n",
    "        \"USER_MENTIONS\": user_mentions,\n",
    "        \"URL\": url,\n",
    "        \"CREATED_AT\": created_at,\n",
    "        \"VIEW_COUNT\": view_count\n",
    "    }"
   ]
  },
  {
   "cell_type": "markdown",
   "id": "f7d86d62-9cdd-4737-a5de-2da8bc191e30",
   "metadata": {
    "papermill": {},
    "tags": []
   },
   "source": [
    "## Output"
   ]
  },
  {
   "cell_type": "markdown",
   "id": "f6fe9aff-4c2d-4e2a-b862-006106354bb5",
   "metadata": {
    "papermill": {},
    "tags": []
   },
   "source": [
    "### Display"
   ]
  },
  {
   "cell_type": "code",
   "execution_count": 10,
   "id": "5f00ab06-24f8-4334-a14e-ba53a3773141",
   "metadata": {
    "papermill": {},
    "tags": []
   },
   "outputs": [],
   "source": [
    "data = []\n",
    "\n",
    "for tweet in dataset_items:\n",
    "    data_tweet = get_tweets(\n",
    "            tweet[\"id\"],\n",
    "            tweet[\"full_text\"],\n",
    "            tweet[\"reply_count\"],\n",
    "            tweet[\"retweet_count\"],\n",
    "            tweet[\"favorite_count\"],\n",
    "            tweet[\"hashtags\"],\n",
    "            tweet[\"user_mentions\"],\n",
    "            tweet[\"url\"],\n",
    "            tweet[\"created_at\"],\n",
    "            tweet[\"view_count\"]\n",
    "        )\n",
    "    data.append(data_tweet)\n",
    "        \n",
    "df = pd.DataFrame(data)\n",
    "df"
   ]
  },
  {
   "cell_type": "markdown",
   "id": "a4a53832-0571-4cbb-980f-9fcb32309a56",
   "metadata": {
    "papermill": {},
    "tags": []
   },
   "source": [
    "### Save to csv file"
   ]
  },
  {
   "cell_type": "code",
   "execution_count": 11,
   "id": "50e4be8c-6e69-492e-bf62-2174f1ad0111",
   "metadata": {
    "papermill": {},
    "tags": []
   },
   "outputs": [],
   "source": [
    "df.to_csv(OUTPUT_CSV, index=False)"
   ]
  },
  {
   "cell_type": "code",
   "execution_count": null,
   "id": "38751e48-3b9f-487a-bbd2-7f114d0457f8",
   "metadata": {
    "papermill": {},
    "tags": []
   },
   "outputs": [],
   "source": []
  }
 ],
 "metadata": {
  "kernelspec": {
   "display_name": "Python 3",
   "language": "python",
   "name": "python3"
  },
  "language_info": {
   "codemirror_mode": {
    "name": "ipython",
    "version": 3
   },
   "file_extension": ".py",
   "mimetype": "text/x-python",
   "name": "python",
   "nbconvert_exporter": "python",
   "pygments_lexer": "ipython3",
   "version": "3.9.6"
  },
  "naas": {
   "notebook_id": "b73455272f278947c5c07facb3d0bc9b8d6c3d65b5e8d83b61182ab875f03121",
   "notebook_path": "Twitter/Twitter_Get_tweets_by_username.ipynb"
  },
  "papermill": {
   "default_parameters": {},
   "environment_variables": {},
   "parameters": {},
   "version": "2.3.3"
  },
  "widgets": {
   "application/vnd.jupyter.widget-state+json": {
    "state": {},
    "version_major": 2,
    "version_minor": 0
   }
  }
 },
 "nbformat": 4,
 "nbformat_minor": 5
}