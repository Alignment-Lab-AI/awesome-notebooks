{
 "cells": [
  {
   "cell_type": "markdown",
   "id": "naas-logo",
   "metadata": {
    "papermill": {},
    "tags": [
     "naas"
    ]
   },
   "source": [
    "<img width=\"8%\" alt=\"Twitter.jpeg\" src=\"https://raw.githubusercontent.com/jupyter-naas/awesome-notebooks/master/.github/assets/logos/Twitter.jpeg\" style=\"border-radius: 15%\">"
   ]
  },
  {
   "cell_type": "markdown",
   "id": "22b3e6a7-eaf5-49ab-93f6-d5b5b0ac4bb7",
   "metadata": {
    "papermill": {},
    "tags": []
   },
   "source": [
    "# Twitter - Get tweets by username\n",
    "<a href=\"https://bit.ly/3JyWIk6\">Give Feedback</a> | <a href=\"https://github.com/jupyter-naas/awesome-notebooks/issues/new?assignees=&labels=bug&template=bug_report.md&title=Twitter+-+Get+tweets+from+search:+Error+short+description\">Bug report</a>"
   ]
  },
  {
   "cell_type": "markdown",
   "id": "32c26cef-6a0b-4e42-b821-24731046d65c",
   "metadata": {
    "papermill": {},
    "tags": []
   },
   "source": [
    "**Tags:** #twitter #username #snippet #content #dataframe"
   ]
  },
  {
   "cell_type": "markdown",
   "id": "naas-author",
   "metadata": {
    "papermill": {},
    "tags": [
     "naas"
    ]
   },
   "source": [
    "**Author:** [Varsha Kumar](https://www.linkedin.com/in/varsha-kumar-590466305/)"
   ]
  },
  {
   "cell_type": "markdown",
   "id": "f9207fc0-4e6f-4722-b48f-88e8f5fff2ea",
   "metadata": {
    "papermill": {},
    "tags": []
   },
   "source": [
    "**Last update:** 2024-07-22 (Created: 2024-07-17)"
   ]
  },
  {
   "cell_type": "markdown",
   "id": "naas-description",
   "metadata": {
    "papermill": {},
    "tags": [
     "description"
    ]
   },
   "source": [
    "**Description:** This notebook allows users to get all tweets made by inputed twitter username."
   ]
  },
  {
   "cell_type": "markdown",
   "id": "06f7ea29-5966-46c1-8472-2cf7042003be",
   "metadata": {},
   "source": [
    "### How to retrive API key with apify"
   ]
  },
  {
   "cell_type": "markdown",
   "id": "9ca4c18d-156e-463d-a3ab-d19d06ea1915",
   "metadata": {},
   "source": [
    "1. Go to https://apify.com.\n",
    "2. Click \"Sign up for free\" and use your google account to sign up.\n",
    "3. Once your account has been created, navigate to \"Settings\" on the left panel of the screen.\n",
    "4. Here you will click on the tab labeled \"Integrations\" where your personal API token that was automatically generated with sign up will be.\n",
    "5. Copy that token and use it to extract data!"
   ]
  },
  {
   "cell_type": "markdown",
   "id": "7331465c-f134-4411-b2c2-0b0c3e0a688c",
   "metadata": {
    "papermill": {},
    "tags": []
   },
   "source": [
    "## Input"
   ]
  },
  {
   "cell_type": "markdown",
   "id": "import_cell",
   "metadata": {
    "papermill": {},
    "tags": []
   },
   "source": [
    "### Import libraries"
   ]
  },
  {
   "cell_type": "code",
   "execution_count": 1,
   "id": "6e4a6247-513e-42de-af1c-70b9a87bdcff",
   "metadata": {
    "execution": {
     "iopub.execute_input": "2024-07-22T13:48:06.202830Z",
     "iopub.status.busy": "2024-07-22T13:48:06.202562Z",
     "iopub.status.idle": "2024-07-22T13:48:08.377143Z",
     "shell.execute_reply": "2024-07-22T13:48:08.376550Z",
     "shell.execute_reply.started": "2024-07-22T13:48:06.202760Z"
    },
    "papermill": {},
    "tags": []
   },
   "outputs": [],
   "source": [
    "import requests\n",
    "import time\n",
    "import pandas as pd"
   ]
  },
  {
   "cell_type": "markdown",
   "id": "60f6074a-9b9a-4869-b34a-b5ecc1857d79",
   "metadata": {
    "papermill": {},
    "tags": []
   },
   "source": [
    "### Setup variables"
   ]
  },
  {
   "cell_type": "markdown",
   "id": "bce3b3b0-d296-4ac6-bc69-be0f94ece1eb",
   "metadata": {},
   "source": [
    "- `APIFY_API_TOKEN`: personal token apify creates to access data\n",
    "- `TWITTER_URL`: link to the twitter account\n",
    "- `OUTPUT_CSV`: excel file"
   ]
  },
  {
   "cell_type": "code",
   "execution_count": 2,
   "id": "45564994-08dc-4551-9da3-10c5a755ec74",
   "metadata": {
    "execution": {
     "iopub.execute_input": "2024-07-22T13:48:09.433374Z",
     "iopub.status.busy": "2024-07-22T13:48:09.433151Z",
     "iopub.status.idle": "2024-07-22T13:48:09.436489Z",
     "shell.execute_reply": "2024-07-22T13:48:09.435724Z",
     "shell.execute_reply.started": "2024-07-22T13:48:09.433352Z"
    },
    "papermill": {},
    "tags": []
   },
   "outputs": [],
   "source": [
    "APIFY_API_TOKEN = 'apify_api_gXWnLEPiE7wC8ALUwQkJ0QcdbuQzU84xxxxx'\n",
    "TWITTER_URL = 'https://twitter.com/Spotify'\n",
    "OUTPUT_CSV = f\"{TWITTER_URL.split('https://twitter.com/')[1].replace('/', '_')}_tweets.csv\""
   ]
  },
  {
   "cell_type": "markdown",
   "id": "663c610e-1558-479a-9143-300fcdfc9af6",
   "metadata": {
    "papermill": {},
    "tags": []
   },
   "source": [
    "## Model"
   ]
  },
  {
   "cell_type": "markdown",
   "id": "fa36a148-2182-4f28-9420-13fe49623392",
   "metadata": {},
   "source": [
    "### Setup apify actor"
   ]
  },
  {
   "cell_type": "code",
   "execution_count": 3,
   "id": "25193cda-fb05-4477-9c13-7c9d0a600102",
   "metadata": {
    "execution": {
     "iopub.execute_input": "2024-07-18T12:08:47.840248Z",
     "iopub.status.busy": "2024-07-18T12:08:47.840018Z",
     "iopub.status.idle": "2024-07-18T12:08:48.637761Z",
     "shell.execute_reply": "2024-07-18T12:08:48.636664Z",
     "shell.execute_reply.started": "2024-07-18T12:08:47.840218Z"
    },
    "papermill": {},
    "tags": []
   },
   "outputs": [],
   "source": [
    "# Prepare the actor input\n",
    "actor_input = {\n",
    "    \"startUrls\": [{\"url\": TWITTER_URL}],\n",
    "    \"resultsLimit\": 100,  # Adjust the limit as needed\n",
    "    \"mode\": \"own\"  # Options: \"own\", \"replies\", \"both\"\n",
    "}\n",
    "\n",
    "# Run the actor\n",
    "run_actor_url = f'https://api.apify.com/v2/acts/quacker~twitter-scraper/runs?token={APIFY_API_TOKEN}'\n",
    "run_response = requests.post(run_actor_url, json=actor_input)\n",
    "run_response.raise_for_status()  # Raise an error if the request failed\n",
    "run = run_response.json()\n",
    "run_id = run['data']['id']"
   ]
  },
  {
   "cell_type": "markdown",
   "id": "27aa7c81-ebed-44b8-b811-7dac6100c285",
   "metadata": {},
   "source": [
    "### Get tweets data"
   ]
  },
  {
   "cell_type": "code",
   "execution_count": 4,
   "id": "bf443879-ea6d-4078-8e1b-e628cf465dab",
   "metadata": {
    "execution": {
     "iopub.execute_input": "2024-07-18T12:08:48.639234Z",
     "iopub.status.busy": "2024-07-18T12:08:48.638993Z",
     "iopub.status.idle": "2024-07-18T12:10:12.522278Z",
     "shell.execute_reply": "2024-07-18T12:10:12.521647Z",
     "shell.execute_reply.started": "2024-07-18T12:08:48.639203Z"
    },
    "tags": []
   },
   "outputs": [],
   "source": [
    "while True:\n",
    "    run_details_url = f'https://api.apify.com/v2/actor-runs/{run_id}?token={APIFY_API_TOKEN}'\n",
    "    run_details_response = requests.get(run_details_url)\n",
    "    run_details_response.raise_for_status()\n",
    "    run_details = run_details_response.json()\n",
    "    if run_details['data']['status'] in ['SUCCEEDED', 'FAILED', 'ABORTED']:\n",
    "        break\n",
    "    time.sleep(10)  # Wait for 10 seconds before checking the status again\n",
    "\n",
    "# Fetch the results\n",
    "dataset_id = run_details['data']['defaultDatasetId']\n",
    "dataset_items_url = f'https://api.apify.com/v2/datasets/{dataset_id}/items?token={APIFY_API_TOKEN}'\n",
    "dataset_items_response = requests.get(dataset_items_url)\n",
    "dataset_items_response.raise_for_status()\n",
    "dataset_items = dataset_items_response.json()"
   ]
  },
  {
   "cell_type": "markdown",
   "id": "38f2f926-f52c-4b48-bec1-f8fc028a6dbf",
   "metadata": {},
   "source": [
    "### Dataframe structure function"
   ]
  },
  {
   "cell_type": "code",
   "execution_count": 6,
   "id": "a0f65554-5ca0-4f9c-bbd8-0772e9a8efd1",
   "metadata": {
    "execution": {
     "iopub.execute_input": "2024-07-18T12:10:23.038935Z",
     "iopub.status.busy": "2024-07-18T12:10:23.038692Z",
     "iopub.status.idle": "2024-07-18T12:10:23.042967Z",
     "shell.execute_reply": "2024-07-18T12:10:23.042236Z",
     "shell.execute_reply.started": "2024-07-18T12:10:23.038911Z"
    },
    "tags": []
   },
   "outputs": [],
   "source": [
    "def get_tweets(\n",
    "    tid,\n",
    "    text,\n",
    "    reply_count,\n",
    "    retweet_count,\n",
    "    favorites_count,\n",
    "    hashtags,\n",
    "    user_mentions,\n",
    "    url,\n",
    "    created_at,\n",
    "    view_count\n",
    "):\n",
    "    return {\n",
    "        \"ID\": tid,\n",
    "        \"TEXT\": text,\n",
    "        \"REPLY_COUNT\": reply_count,\n",
    "        \"RETWEET_COUNT\": retweet_count,\n",
    "        \"FAVORITES_COUNT\": favorites_count,\n",
    "        \"HASHTAGS\": hashtags,\n",
    "        \"USER_MENTIONS\": user_mentions,\n",
    "        \"URL\": url,\n",
    "        \"CREATED_AT\": created_at,\n",
    "        \"VIEW_COUNT\": view_count\n",
    "    }"
   ]
  },
  {
   "cell_type": "markdown",
   "id": "f7d86d62-9cdd-4737-a5de-2da8bc191e30",
   "metadata": {
    "papermill": {},
    "tags": []
   },
   "source": [
    "## Output"
   ]
  },
  {
   "cell_type": "markdown",
   "id": "f6fe9aff-4c2d-4e2a-b862-006106354bb5",
   "metadata": {
    "papermill": {},
    "tags": []
   },
   "source": [
    "### Display"
   ]
  },
  {
   "cell_type": "code",
   "execution_count": 10,
   "id": "5f00ab06-24f8-4334-a14e-ba53a3773141",
   "metadata": {
    "execution": {
     "iopub.execute_input": "2024-07-18T12:11:05.010264Z",
     "iopub.status.busy": "2024-07-18T12:11:05.010026Z",
     "iopub.status.idle": "2024-07-18T12:11:05.043314Z",
     "shell.execute_reply": "2024-07-18T12:11:05.042743Z",
     "shell.execute_reply.started": "2024-07-18T12:11:05.010240Z"
    },
    "papermill": {},
    "tags": []
   },
   "outputs": [
    {
     "data": {
      "text/html": [
       "<div>\n",
       "<style scoped>\n",
       "    .dataframe tbody tr th:only-of-type {\n",
       "        vertical-align: middle;\n",
       "    }\n",
       "\n",
       "    .dataframe tbody tr th {\n",
       "        vertical-align: top;\n",
       "    }\n",
       "\n",
       "    .dataframe thead th {\n",
       "        text-align: right;\n",
       "    }\n",
       "</style>\n",
       "<table border=\"1\" class=\"dataframe\">\n",
       "  <thead>\n",
       "    <tr style=\"text-align: right;\">\n",
       "      <th></th>\n",
       "      <th>ID</th>\n",
       "      <th>TEXT</th>\n",
       "      <th>REPLY_COUNT</th>\n",
       "      <th>RETWEET_COUNT</th>\n",
       "      <th>FAVORITES_COUNT</th>\n",
       "      <th>HASHTAGS</th>\n",
       "      <th>USER_MENTIONS</th>\n",
       "      <th>URL</th>\n",
       "      <th>CREATED_AT</th>\n",
       "      <th>VIEW_COUNT</th>\n",
       "    </tr>\n",
       "  </thead>\n",
       "  <tbody>\n",
       "    <tr>\n",
       "      <th>0</th>\n",
       "      <td>1813743054395998316</td>\n",
       "      <td>🚨New Childish Gambino on Friday. Check out the...</td>\n",
       "      <td>17</td>\n",
       "      <td>47</td>\n",
       "      <td>304</td>\n",
       "      <td>[]</td>\n",
       "      <td>[]</td>\n",
       "      <td>https://twitter.com/Spotify/status/18137430543...</td>\n",
       "      <td>2024-07-18T01:10:16.000Z</td>\n",
       "      <td>67334</td>\n",
       "    </tr>\n",
       "    <tr>\n",
       "      <th>1</th>\n",
       "      <td>1813740475398164714</td>\n",
       "      <td>Please don’t ask “what’s new?” Just listen to ...</td>\n",
       "      <td>30</td>\n",
       "      <td>47</td>\n",
       "      <td>274</td>\n",
       "      <td>[]</td>\n",
       "      <td>[]</td>\n",
       "      <td>https://twitter.com/Spotify/status/18137404753...</td>\n",
       "      <td>2024-07-18T01:00:01.000Z</td>\n",
       "      <td>57701</td>\n",
       "    </tr>\n",
       "    <tr>\n",
       "      <th>2</th>\n",
       "      <td>1813690603894677650</td>\n",
       "      <td>we've been blessed once again</td>\n",
       "      <td>31</td>\n",
       "      <td>140</td>\n",
       "      <td>628</td>\n",
       "      <td>[]</td>\n",
       "      <td>[]</td>\n",
       "      <td>https://twitter.com/Spotify/status/18136906038...</td>\n",
       "      <td>2024-07-17T21:41:51.000Z</td>\n",
       "      <td>112142</td>\n",
       "    </tr>\n",
       "    <tr>\n",
       "      <th>3</th>\n",
       "      <td>1813660598695268471</td>\n",
       "      <td>Spanish DJ is available for Premium users only...</td>\n",
       "      <td>4</td>\n",
       "      <td>4</td>\n",
       "      <td>64</td>\n",
       "      <td>[]</td>\n",
       "      <td>[]</td>\n",
       "      <td>https://twitter.com/Spotify/status/18136605986...</td>\n",
       "      <td>2024-07-17T19:42:37.000Z</td>\n",
       "      <td>44484</td>\n",
       "    </tr>\n",
       "    <tr>\n",
       "      <th>4</th>\n",
       "      <td>1813651095455162566</td>\n",
       "      <td>DJ is now available to use in Spanish. Search ...</td>\n",
       "      <td>24</td>\n",
       "      <td>13</td>\n",
       "      <td>136</td>\n",
       "      <td>[]</td>\n",
       "      <td>[]</td>\n",
       "      <td>https://twitter.com/Spotify/status/18136510954...</td>\n",
       "      <td>2024-07-17T19:04:51.000Z</td>\n",
       "      <td>108677</td>\n",
       "    </tr>\n",
       "    <tr>\n",
       "      <th>5</th>\n",
       "      <td>1813636045529092378</td>\n",
       "      <td>Munchkins, get in formation. Y2K! arrives July...</td>\n",
       "      <td>11</td>\n",
       "      <td>15</td>\n",
       "      <td>108</td>\n",
       "      <td>[]</td>\n",
       "      <td>[]</td>\n",
       "      <td>https://twitter.com/Spotify/status/18136360455...</td>\n",
       "      <td>2024-07-17T18:05:03.000Z</td>\n",
       "      <td>57946</td>\n",
       "    </tr>\n",
       "    <tr>\n",
       "      <th>6</th>\n",
       "      <td>1813287485922853263</td>\n",
       "      <td>Crush’s Spotify follower count just went up by...</td>\n",
       "      <td>47</td>\n",
       "      <td>44</td>\n",
       "      <td>380</td>\n",
       "      <td>[]</td>\n",
       "      <td>[]</td>\n",
       "      <td>https://twitter.com/Spotify/status/18132874859...</td>\n",
       "      <td>2024-07-16T19:00:00.000Z</td>\n",
       "      <td>109026</td>\n",
       "    </tr>\n",
       "    <tr>\n",
       "      <th>7</th>\n",
       "      <td>1813260012132966871</td>\n",
       "      <td>https://t.co/mfcYjTY39D</td>\n",
       "      <td>10</td>\n",
       "      <td>14</td>\n",
       "      <td>179</td>\n",
       "      <td>[]</td>\n",
       "      <td>[]</td>\n",
       "      <td>https://twitter.com/Spotify/status/18132600121...</td>\n",
       "      <td>2024-07-16T17:10:50.000Z</td>\n",
       "      <td>75601</td>\n",
       "    </tr>\n",
       "    <tr>\n",
       "      <th>8</th>\n",
       "      <td>1813259964745719939</td>\n",
       "      <td>It’s the best time of the week (when the top c...</td>\n",
       "      <td>197</td>\n",
       "      <td>1554</td>\n",
       "      <td>4949</td>\n",
       "      <td>[]</td>\n",
       "      <td>[]</td>\n",
       "      <td>https://twitter.com/Spotify/status/18132599647...</td>\n",
       "      <td>2024-07-16T17:10:38.000Z</td>\n",
       "      <td>268949</td>\n",
       "    </tr>\n",
       "    <tr>\n",
       "      <th>9</th>\n",
       "      <td>1813246671054381297</td>\n",
       "      <td>Now Presenting The Gold Standard, an exhibit i...</td>\n",
       "      <td>60</td>\n",
       "      <td>74</td>\n",
       "      <td>363</td>\n",
       "      <td>[]</td>\n",
       "      <td>[]</td>\n",
       "      <td>https://twitter.com/Spotify/status/18132466710...</td>\n",
       "      <td>2024-07-16T16:17:49.000Z</td>\n",
       "      <td>124731</td>\n",
       "    </tr>\n",
       "    <tr>\n",
       "      <th>10</th>\n",
       "      <td>1813196890344731043</td>\n",
       "      <td>You’re building the ultimate summer playlist w...</td>\n",
       "      <td>987</td>\n",
       "      <td>170</td>\n",
       "      <td>1336</td>\n",
       "      <td>[]</td>\n",
       "      <td>[]</td>\n",
       "      <td>https://twitter.com/Spotify/status/18131968903...</td>\n",
       "      <td>2024-07-16T13:00:00.000Z</td>\n",
       "      <td>446499</td>\n",
       "    </tr>\n",
       "    <tr>\n",
       "      <th>11</th>\n",
       "      <td>1812945278628209138</td>\n",
       "      <td>Which summer mix matches your current mood? ☀️...</td>\n",
       "      <td>52</td>\n",
       "      <td>19</td>\n",
       "      <td>192</td>\n",
       "      <td>[]</td>\n",
       "      <td>[]</td>\n",
       "      <td>https://twitter.com/Spotify/status/18129452786...</td>\n",
       "      <td>2024-07-15T20:20:11.000Z</td>\n",
       "      <td>105070</td>\n",
       "    </tr>\n",
       "    <tr>\n",
       "      <th>12</th>\n",
       "      <td>1812897635453530347</td>\n",
       "      <td>Spotify Presents The Gold Standard Exhibition,...</td>\n",
       "      <td>15</td>\n",
       "      <td>13</td>\n",
       "      <td>137</td>\n",
       "      <td>[]</td>\n",
       "      <td>[]</td>\n",
       "      <td>https://twitter.com/Spotify/status/18128976354...</td>\n",
       "      <td>2024-07-15T17:10:52.000Z</td>\n",
       "      <td>132064</td>\n",
       "    </tr>\n",
       "    <tr>\n",
       "      <th>13</th>\n",
       "      <td>1812894069804183850</td>\n",
       "      <td>Your last played artist is your new best frien...</td>\n",
       "      <td>1515</td>\n",
       "      <td>130</td>\n",
       "      <td>2166</td>\n",
       "      <td>[]</td>\n",
       "      <td>[]</td>\n",
       "      <td>https://twitter.com/Spotify/status/18128940698...</td>\n",
       "      <td>2024-07-15T16:56:42.000Z</td>\n",
       "      <td>280762</td>\n",
       "    </tr>\n",
       "    <tr>\n",
       "      <th>14</th>\n",
       "      <td>1812603287210020926</td>\n",
       "      <td>🏆</td>\n",
       "      <td>24</td>\n",
       "      <td>75</td>\n",
       "      <td>726</td>\n",
       "      <td>[]</td>\n",
       "      <td>[]</td>\n",
       "      <td>https://twitter.com/Spotify/status/18126032872...</td>\n",
       "      <td>2024-07-14T21:41:14.000Z</td>\n",
       "      <td>213146</td>\n",
       "    </tr>\n",
       "    <tr>\n",
       "      <th>15</th>\n",
       "      <td>1811943008600023174</td>\n",
       "      <td>Favorite song to listen to while you skate on ...</td>\n",
       "      <td>199</td>\n",
       "      <td>66</td>\n",
       "      <td>619</td>\n",
       "      <td>[SkateNoise]</td>\n",
       "      <td>[]</td>\n",
       "      <td>https://twitter.com/Spotify/status/18119430086...</td>\n",
       "      <td>2024-07-13T01:57:32.000Z</td>\n",
       "      <td>149877</td>\n",
       "    </tr>\n",
       "    <tr>\n",
       "      <th>16</th>\n",
       "      <td>1811883240661352956</td>\n",
       "      <td>Screenshot the playlist title that only makes ...</td>\n",
       "      <td>579</td>\n",
       "      <td>104</td>\n",
       "      <td>1321</td>\n",
       "      <td>[]</td>\n",
       "      <td>[]</td>\n",
       "      <td>https://twitter.com/Spotify/status/18118832406...</td>\n",
       "      <td>2024-07-12T22:00:02.000Z</td>\n",
       "      <td>247966</td>\n",
       "    </tr>\n",
       "    <tr>\n",
       "      <th>17</th>\n",
       "      <td>1811871617678778458</td>\n",
       "      <td>Moses Sumney takes us back to 1993 in the late...</td>\n",
       "      <td>13</td>\n",
       "      <td>18</td>\n",
       "      <td>185</td>\n",
       "      <td>[]</td>\n",
       "      <td>[]</td>\n",
       "      <td>https://twitter.com/Spotify/status/18118716176...</td>\n",
       "      <td>2024-07-12T21:13:51.000Z</td>\n",
       "      <td>99306</td>\n",
       "    </tr>\n",
       "    <tr>\n",
       "      <th>18</th>\n",
       "      <td>1811838698197254366</td>\n",
       "      <td>COUNTER//CULTURE - Vol 15 🤝 @CageTheElephant h...</td>\n",
       "      <td>15</td>\n",
       "      <td>14</td>\n",
       "      <td>187</td>\n",
       "      <td>[]</td>\n",
       "      <td>[{'id_str': '19341413', 'name': 'Cage The Elep...</td>\n",
       "      <td>https://twitter.com/Spotify/status/18118386981...</td>\n",
       "      <td>2024-07-12T19:03:02.000Z</td>\n",
       "      <td>83954</td>\n",
       "    </tr>\n",
       "    <tr>\n",
       "      <th>19</th>\n",
       "      <td>1811837762028617876</td>\n",
       "      <td>RT @SpotifyUSA: Welcome to Artificial Paradise...</td>\n",
       "      <td>0</td>\n",
       "      <td>60</td>\n",
       "      <td>0</td>\n",
       "      <td>[]</td>\n",
       "      <td>[{'id_str': '213687893', 'name': 'Spotify USA'...</td>\n",
       "      <td>https://twitter.com/Spotify/status/18118377620...</td>\n",
       "      <td>2024-07-12T18:59:19.000Z</td>\n",
       "      <td>93429</td>\n",
       "    </tr>\n",
       "  </tbody>\n",
       "</table>\n",
       "</div>"
      ],
      "text/plain": [
       "                     ID                                               TEXT  \\\n",
       "0   1813743054395998316  🚨New Childish Gambino on Friday. Check out the...   \n",
       "1   1813740475398164714  Please don’t ask “what’s new?” Just listen to ...   \n",
       "2   1813690603894677650                      we've been blessed once again   \n",
       "3   1813660598695268471  Spanish DJ is available for Premium users only...   \n",
       "4   1813651095455162566  DJ is now available to use in Spanish. Search ...   \n",
       "5   1813636045529092378  Munchkins, get in formation. Y2K! arrives July...   \n",
       "6   1813287485922853263  Crush’s Spotify follower count just went up by...   \n",
       "7   1813260012132966871                            https://t.co/mfcYjTY39D   \n",
       "8   1813259964745719939  It’s the best time of the week (when the top c...   \n",
       "9   1813246671054381297  Now Presenting The Gold Standard, an exhibit i...   \n",
       "10  1813196890344731043  You’re building the ultimate summer playlist w...   \n",
       "11  1812945278628209138  Which summer mix matches your current mood? ☀️...   \n",
       "12  1812897635453530347  Spotify Presents The Gold Standard Exhibition,...   \n",
       "13  1812894069804183850  Your last played artist is your new best frien...   \n",
       "14  1812603287210020926                                                  🏆   \n",
       "15  1811943008600023174  Favorite song to listen to while you skate on ...   \n",
       "16  1811883240661352956  Screenshot the playlist title that only makes ...   \n",
       "17  1811871617678778458  Moses Sumney takes us back to 1993 in the late...   \n",
       "18  1811838698197254366  COUNTER//CULTURE - Vol 15 🤝 @CageTheElephant h...   \n",
       "19  1811837762028617876  RT @SpotifyUSA: Welcome to Artificial Paradise...   \n",
       "\n",
       "    REPLY_COUNT  RETWEET_COUNT  FAVORITES_COUNT      HASHTAGS  \\\n",
       "0            17             47              304            []   \n",
       "1            30             47              274            []   \n",
       "2            31            140              628            []   \n",
       "3             4              4               64            []   \n",
       "4            24             13              136            []   \n",
       "5            11             15              108            []   \n",
       "6            47             44              380            []   \n",
       "7            10             14              179            []   \n",
       "8           197           1554             4949            []   \n",
       "9            60             74              363            []   \n",
       "10          987            170             1336            []   \n",
       "11           52             19              192            []   \n",
       "12           15             13              137            []   \n",
       "13         1515            130             2166            []   \n",
       "14           24             75              726            []   \n",
       "15          199             66              619  [SkateNoise]   \n",
       "16          579            104             1321            []   \n",
       "17           13             18              185            []   \n",
       "18           15             14              187            []   \n",
       "19            0             60                0            []   \n",
       "\n",
       "                                        USER_MENTIONS  \\\n",
       "0                                                  []   \n",
       "1                                                  []   \n",
       "2                                                  []   \n",
       "3                                                  []   \n",
       "4                                                  []   \n",
       "5                                                  []   \n",
       "6                                                  []   \n",
       "7                                                  []   \n",
       "8                                                  []   \n",
       "9                                                  []   \n",
       "10                                                 []   \n",
       "11                                                 []   \n",
       "12                                                 []   \n",
       "13                                                 []   \n",
       "14                                                 []   \n",
       "15                                                 []   \n",
       "16                                                 []   \n",
       "17                                                 []   \n",
       "18  [{'id_str': '19341413', 'name': 'Cage The Elep...   \n",
       "19  [{'id_str': '213687893', 'name': 'Spotify USA'...   \n",
       "\n",
       "                                                  URL  \\\n",
       "0   https://twitter.com/Spotify/status/18137430543...   \n",
       "1   https://twitter.com/Spotify/status/18137404753...   \n",
       "2   https://twitter.com/Spotify/status/18136906038...   \n",
       "3   https://twitter.com/Spotify/status/18136605986...   \n",
       "4   https://twitter.com/Spotify/status/18136510954...   \n",
       "5   https://twitter.com/Spotify/status/18136360455...   \n",
       "6   https://twitter.com/Spotify/status/18132874859...   \n",
       "7   https://twitter.com/Spotify/status/18132600121...   \n",
       "8   https://twitter.com/Spotify/status/18132599647...   \n",
       "9   https://twitter.com/Spotify/status/18132466710...   \n",
       "10  https://twitter.com/Spotify/status/18131968903...   \n",
       "11  https://twitter.com/Spotify/status/18129452786...   \n",
       "12  https://twitter.com/Spotify/status/18128976354...   \n",
       "13  https://twitter.com/Spotify/status/18128940698...   \n",
       "14  https://twitter.com/Spotify/status/18126032872...   \n",
       "15  https://twitter.com/Spotify/status/18119430086...   \n",
       "16  https://twitter.com/Spotify/status/18118832406...   \n",
       "17  https://twitter.com/Spotify/status/18118716176...   \n",
       "18  https://twitter.com/Spotify/status/18118386981...   \n",
       "19  https://twitter.com/Spotify/status/18118377620...   \n",
       "\n",
       "                  CREATED_AT  VIEW_COUNT  \n",
       "0   2024-07-18T01:10:16.000Z       67334  \n",
       "1   2024-07-18T01:00:01.000Z       57701  \n",
       "2   2024-07-17T21:41:51.000Z      112142  \n",
       "3   2024-07-17T19:42:37.000Z       44484  \n",
       "4   2024-07-17T19:04:51.000Z      108677  \n",
       "5   2024-07-17T18:05:03.000Z       57946  \n",
       "6   2024-07-16T19:00:00.000Z      109026  \n",
       "7   2024-07-16T17:10:50.000Z       75601  \n",
       "8   2024-07-16T17:10:38.000Z      268949  \n",
       "9   2024-07-16T16:17:49.000Z      124731  \n",
       "10  2024-07-16T13:00:00.000Z      446499  \n",
       "11  2024-07-15T20:20:11.000Z      105070  \n",
       "12  2024-07-15T17:10:52.000Z      132064  \n",
       "13  2024-07-15T16:56:42.000Z      280762  \n",
       "14  2024-07-14T21:41:14.000Z      213146  \n",
       "15  2024-07-13T01:57:32.000Z      149877  \n",
       "16  2024-07-12T22:00:02.000Z      247966  \n",
       "17  2024-07-12T21:13:51.000Z       99306  \n",
       "18  2024-07-12T19:03:02.000Z       83954  \n",
       "19  2024-07-12T18:59:19.000Z       93429  "
      ]
     },
     "execution_count": 10,
     "metadata": {},
     "output_type": "execute_result"
    }
   ],
   "source": [
    "data = []\n",
    "\n",
    "for tweet in dataset_items:\n",
    "    data_tweet = get_tweets(\n",
    "            tweet[\"id\"],\n",
    "            tweet[\"full_text\"],\n",
    "            tweet[\"reply_count\"],\n",
    "            tweet[\"retweet_count\"],\n",
    "            tweet[\"favorite_count\"],\n",
    "            tweet[\"hashtags\"],\n",
    "            tweet[\"user_mentions\"],\n",
    "            tweet[\"url\"],\n",
    "            tweet[\"created_at\"],\n",
    "            tweet[\"view_count\"]\n",
    "        )\n",
    "    data.append(data_tweet)\n",
    "        \n",
    "df = pd.DataFrame(data)\n",
    "df"
   ]
  },
  {
   "cell_type": "markdown",
   "id": "a4a53832-0571-4cbb-980f-9fcb32309a56",
   "metadata": {},
   "source": [
    "### Save to csv file"
   ]
  },
  {
   "cell_type": "code",
   "execution_count": 11,
   "id": "50e4be8c-6e69-492e-bf62-2174f1ad0111",
   "metadata": {
    "execution": {
     "iopub.execute_input": "2024-07-18T12:11:53.635934Z",
     "iopub.status.busy": "2024-07-18T12:11:53.635684Z",
     "iopub.status.idle": "2024-07-18T12:11:53.665887Z",
     "shell.execute_reply": "2024-07-18T12:11:53.665267Z",
     "shell.execute_reply.started": "2024-07-18T12:11:53.635909Z"
    }
   },
   "outputs": [],
   "source": [
    "df.to_csv(OUTPUT_CSV, index=False)"
   ]
  },
  {
   "cell_type": "code",
   "execution_count": null,
   "id": "38751e48-3b9f-487a-bbd2-7f114d0457f8",
   "metadata": {},
   "outputs": [],
   "source": []
  }
 ],
 "metadata": {
  "kernelspec": {
   "display_name": "Python 3",
   "language": "python",
   "name": "python3"
  },
  "language_info": {
   "codemirror_mode": {
    "name": "ipython",
    "version": 3
   },
   "file_extension": ".py",
   "mimetype": "text/x-python",
   "name": "python",
   "nbconvert_exporter": "python",
   "pygments_lexer": "ipython3",
   "version": "3.9.6"
  },
  "naas": {
   "notebook_id": "d50dc5991bf4fe05f69298b0b37857587e63f47d21cab0b07fbf0c4f6d4bf0b7",
   "notebook_path": "Twitter/Twitter_Get_tweets_from_search.ipynb"
  },
  "papermill": {
   "default_parameters": {},
   "environment_variables": {},
   "parameters": {},
   "version": "2.3.3"
  },
  "widgets": {
   "application/vnd.jupyter.widget-state+json": {
    "state": {},
    "version_major": 2,
    "version_minor": 0
   }
  }
 },
 "nbformat": 4,
 "nbformat_minor": 5
}
